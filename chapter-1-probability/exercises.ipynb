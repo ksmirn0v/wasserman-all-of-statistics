{
 "cells": [
  {
   "cell_type": "code",
   "execution_count": 1,
   "id": "209f7241",
   "metadata": {},
   "outputs": [],
   "source": [
    "import numpy as np\n",
    "import matplotlib.pyplot as plt"
   ]
  },
  {
   "cell_type": "markdown",
   "id": "4b7caa66",
   "metadata": {},
   "source": [
    "1. Prove the theorem on continuity of probabilities for the monotone decreasing case.\n",
    "\n",
    "$\\lim_{n\\to\\infty}{A_n} = \\lim_{n\\to\\infty}{\\cap_{i=1}^n A_i} = \\cap_{i=1}^{\\infty}A_i = A$  \n",
    "$\\mathbb{P}(A_n) = 1 - \\mathbb{P}(A_n^c) = 1 - \\mathbb{P}((\\cap_{i=1}^n A_i)^c) = 1 - \\mathbb{P}(\\cup_{i=1}^n A_i^c)$  \n",
    "$A_i^c$ is monotone increasing, therefore (from the previous proof on monotone increasing case):  \n",
    "$\\lim_{n\\to\\infty}(1 - \\mathbb{P}(\\cup_{i=1}^n A_i^c)) = 1 - \\mathbb{P}(A^c) = \\mathbb{P}(A)$"
   ]
  },
  {
   "cell_type": "markdown",
   "id": "60d6a5cb",
   "metadata": {},
   "source": [
    "2. Prove:\n",
    "\n",
    "a) $\\mathbb{P}(\\emptyset) = 0$\n",
    "\n",
    "Let's partition $\\Omega$ onto $\\{\\Omega, \\emptyset\\}$:  \n",
    "$\\mathbb{P}(\\Omega) = \\mathbb{P}(\\Omega \\cup \\emptyset) = \\mathbb{P}(\\Omega) + \\mathbb{P}(\\emptyset) = 1 + \\mathbb{P}(\\emptyset)$  \n",
    "$\\mathbb{P}(\\emptyset) = 1 - \\mathbb{P}(\\Omega)$\n",
    "\n",
    "b) $A\\subset B \\Rightarrow \\mathbb{P}(A) \\le \\mathbb{P}(B)$\n",
    "\n",
    "$A\\subset B$ implies that we can represent $B$ as union of disjoint events $A$ and $C$: $B = A\\cup C$  \n",
    "$\\mathbb{P}(B) = \\mathbb{P}(A\\cup C) = \\mathbb{P}(A) + \\mathbb{P}(C)$  \n",
    "$\\mathbb{P}(A) \\ge 0, \\mathbb{P}(B) \\ge 0, \\mathbb{P}(C) \\ge 0 \\Rightarrow \\mathbb{P}(B) \\ge \\mathbb{P}(A)$\n",
    "\n",
    "c) $0 \\le \\mathbb{P}(A) \\le 1$\n",
    "\n",
    "$\\emptyset \\subset A \\Rightarrow \\mathbb{P}(A) \\ge \\mathbb{P}(\\emptyset) \\Rightarrow \\mathbb{P}(A) \\ge 0$  \n",
    "$A \\subset \\Omega \\Rightarrow \\mathbb{P}(A) \\le \\mathbb{P}(\\Omega) \\Rightarrow \\mathbb{P}(A) \\le 1$\n",
    "\n",
    "d) $\\mathbb{P}(A^c) = 1 - \\mathbb{P}(A)$\n",
    "\n",
    "$\\mathbb{P}(\\Omega) = \\mathbb{P}(A\\cup A^c) = \\mathbb{P}(A) + \\mathbb{P}(A^c)$  \n",
    "$1 = \\mathbb{P}(A) + \\mathbb{P}(A^c) \\Rightarrow \\mathbb{P}(A^c) = 1 - \\mathbb{P}(A)$\n",
    "\n",
    "e) $A\\cap B = \\emptyset \\Rightarrow \\mathbb{P}(A\\cup B) = \\mathbb{P}(A) + \\mathbb{P}(B)$\n",
    "\n",
    "$A\\cap B = \\emptyset$ implies that $A$ and $B$ are disjoint. Therefore, the proof follows the third property of a probability."
   ]
  },
  {
   "cell_type": "markdown",
   "id": "4cfbd1db",
   "metadata": {},
   "source": [
    "3. Let $\\Omega$ be a sample space and let $A_1, A_2, ...$ be events. Define $B_n = \\cup_{i=n}^\\infty A_i$ and $C_n = \\cap_{i=n}^\\infty A_i$\n",
    "\n",
    "a) Show that $B_1 \\supset B_2 \\supset ...$ and that $C_1 \\subset C_2 \\subset ...$\n",
    "\n",
    "From the construction:\n",
    "\n",
    "$B_1 = A_1 \\cup (\\cup_{i=2}^\\infty A_i) = A_1 \\cup B_2 \\Rightarrow B_1 \\supset B_2$  \n",
    "$B_2 = A_2 \\cup (\\cup_{i=3}^\\infty A_i) = A_2 \\cup B_3 = A_1 \\cup A_2 \\cup B_3 \\Rightarrow B_2 \\supset B_3$  \n",
    "$B_n = A_n \\cup (\\cup_{i=n+1}^\\infty A_i) = A_n \\cup B_{n+1} = A_1 \\cup A_2 \\cup ... \\cup A_n \\cup B_{n+1} \\Rightarrow B_n \\supset B_{n+1}$\n",
    "\n",
    "$C_1 = A_1 \\cap (\\cap_{i=2}^\\infty A_i) = A_1 \\cap C_2 \\Rightarrow C_1 \\subset C_2$  \n",
    "$C_2 = A_2 \\cap (\\cap_{i=3}^\\infty A_i) = A_2 \\cap C_3 \\Rightarrow C_2 \\subset C_3$  \n",
    "$C_n = A_n \\cap (\\cap_{i=n+1}^\\infty A_i) = A_n \\cap C_{n+1} \\Rightarrow C_n \\subset C_{n+1}$\n",
    "\n",
    "b) Show that $\\omega \\in \\cap_{n=1}^\\infty B_n$ if and only if $\\omega$ belongs to an infinite number of events $A_1, A_2, ...$\n",
    "\n",
    "$\\omega \\in A_1, \\omega \\in A_2, ... \\Rightarrow \\omega \\in \\cup_{i=1}^\\infty A_i, \\omega \\in \\cup_{i=2}^\\infty A_i, ... \\Rightarrow \\omega \\in B_1, \\omega \\in B_2, ... \\Rightarrow \\omega \\in \\cap_{n=1}^\\infty B_n$\n",
    "\n",
    "c) Show that $\\omega \\in \\cup_{n=1}^\\infty C_n$ if and only if $\\omega$ belongs to all the events $A_1, A_2, ...$ except possibly a finite number of those events.\n",
    "\n",
    "Let $X$ - infinite ordered set of indices from $\\{1, 2, ...\\}$ that describe the belonging to $A_1, A_2, ...$.  \n",
    "$\\omega \\in \\cap_{n\\in X} A_n \\Rightarrow \\exists m: \\left\\{\\omega \\in \\cap_{n=m}^\\infty A_n \\Leftrightarrow \\omega \\in C_m \\right\\} \\Rightarrow \\omega \\in C_m, \\omega \\in C_{m+1}, ... \\Rightarrow \\omega \\in \\cup_{n=m}^\\infty C_n \\Rightarrow \\omega \\in \\cup_{n=1}^\\infty C_n$\n"
   ]
  },
  {
   "cell_type": "markdown",
   "id": "d518a975",
   "metadata": {},
   "source": [
    "4. **(De Morgan's laws)** Let ${A_i: i \\in I}$ be a collection of events where $I$ is an arbitrary index set.\n",
    "\n",
    "a) Show that $\\left(\\cup_{i\\in I}A_i\\right)^c = \\cap_{i\\in I} A_i^c$\n",
    "\n",
    "$\\left(\\cup_{i\\in I}A_i\\right)^c \\subset \\cap_{i\\in I} A_i^c \\rightarrow \\omega\\in\\left(\\cup_{i\\in I}A_i\\right)^c \\Rightarrow \\omega\\not\\in\\cup_{i\\in I}A_i \\Rightarrow \\forall i\\in I:\\omega\\not\\in A_i \\Rightarrow \\forall i\\in I:\\omega\\in A_i^c \\Rightarrow \\omega \\in \\cap_{i\\in I} A_i^c$  \n",
    "$\\cap_{i\\in I} A_i^c \\subset \\left(\\cup_{i\\in I}A_i\\right)^c \\rightarrow \\omega \\in \\cap_{i\\in I} A_i^c \\Rightarrow \\forall i\\in I:\\omega\\in A_i^c \\Rightarrow \\forall i\\in I:\\omega\\not\\in A_i \\Rightarrow \\omega\\not\\in\\cup_{i\\in I}A_i \\Rightarrow \\omega\\in\\left(\\cup_{i\\in I}A_i\\right)^c$\n",
    "\n",
    "b) Show that $\\left(\\cap_{i\\in I}A_i\\right)^c = \\cup_{i\\in I} A_i^c$\n",
    "\n",
    "$\\left(\\cap_{i\\in I}A_i\\right)^c \\subset \\cup_{i\\in I} A_i^c \\rightarrow \\omega\\in\\left(\\cap_{i\\in I}A_i\\right)^c \\Rightarrow \\omega\\not\\in\\cap_{i\\in I}A_i \\Rightarrow \\exists i\\in I:\\omega\\not\\in A_i \\Rightarrow \\exists i\\in I:\\omega\\in A_i^c \\Rightarrow \\omega\\in\\cup_{i\\in I} A_i^c$  \n",
    "$\\cup_{i\\in I} A_i^c \\subset \\left(\\cap_{i\\in I}A_i\\right)^c \\rightarrow \\omega\\in\\cup_{i\\in I} A_i^c \\Rightarrow \\exists i\\in I:\\omega\\in A_i^c \\Rightarrow \\exists i\\in I:\\omega\\not\\in A_i \\Rightarrow \\omega\\not\\in\\cap_{i\\in I}A_i \\Rightarrow \\omega\\in\\left(\\cap_{i\\in I}A_i\\right)^c$"
   ]
  },
  {
   "cell_type": "markdown",
   "id": "35c3cb24",
   "metadata": {},
   "source": [
    "5. Suppose we toss a fair coin until we get exactly two heads. Describe the sample space $S$. What is the probability that exactly $k$ tossses are required?\n",
    "\n",
    "$S = \\Omega = \\left\\{ (\\omega_1,\\omega_2,\\omega_3,...,\\omega_k): \\omega_i \\ \\{H, T\\} \\right\\}$ - sample space of size $2^k$  \n",
    "$E = \\left\\{ (\\omega_1, \\omega_2, \\omega_3,...,\\omega_k): \\omega_k = H \\text{ and } \\exists i\\in\\{1,2,...,k-1\\}: \\omega_i=H\\right\\}$\n",
    "\n",
    "Let's consider another sample space and events:  \n",
    "\n",
    "$E_{\\omega_{i=H}} = \\{ (\\omega_1, \\omega_2, \\omega_3,...,\\omega_{k-1}, \\omega_k): \\omega_i \\in \\{H, T\\} \\text { and } \\exists i\\in\\{1,2,...,k-1\\}: \\omega_i=H\\}$ - an event that the first $k-1$ elements contain only one $H$\n",
    "\n",
    "$E_{\\omega_k=H} = \\{ (\\omega_1, \\omega_2, \\omega_3,...,\\omega_{k-1}, \\omega_k=H): \\omega_i \\in \\{H, T\\} \\text { for } i < k\\}$ - an event that the last $k$ element is $H$\n",
    "\n",
    "$\\mathbb{P}(E_{\\omega_{i=H}}) = \\mathbb{P}(\\{(\\omega_1=H,\\omega_2=T,...,\\omega_{k-1}=T,\\omega_k=H)\\}) + \\mathbb{P}(\\{(\\omega_1=H,\\omega_2=T,...,\\omega_{k-1}=T,\\omega_k=T)\\}) + \\mathbb{P}(\\{(\\omega_1=T,\\omega_2=H,...,\\omega_{k-1}=T,\\omega_k=H)\\}) + \\mathbb{P}(\\{(\\omega_1=T,\\omega_2=H,...,\\omega_{k-1}=T,\\omega_k=T)\\}) + ... + \\mathbb{P}(\\{(\\omega_1=T,\\omega_2=T,...,\\omega_{k-1}=H,\\omega_k=H)\\}) + \\mathbb{P}(\\{(\\omega_1=T,\\omega_2=T,...,\\omega_{k-1}=H,\\omega_k=T)\\}) = 2\\cdot\\frac{1}{2^k} + 2\\cdot\\frac{1}{2^k} + ... + 2\\cdot\\frac{1}{2^k} = \\frac{2(k-1)}{2^k}$\n",
    "\n",
    "$\\mathbb{P}(E_{\\omega_{k=H}}) = \\sum_{i=1}^{2^{k-1}}\\mathbb{P}(\\{(\\omega_{i_1},\\omega_{i_2},...\\omega_{i_{k-1}},\\omega_k=H)\\}) = \\sum_{i=1}^{2^{k-1}} \\frac{1}{2^k} = \\frac{2^{k-1}}{2^k} = \\frac{1}{2}$\n",
    "\n",
    "$\\mathbb{P}(E) = \\mathbb{P}(E_{\\omega_i=H} \\cap E_{\\omega_k=H}) = \\mathbb{P}(E_{\\omega_i=H})\\mathbb{P}(E_{\\omega_k=H}) = \\frac{2(k-1)}{2^k}\\frac{1}{2} = \\frac{k-1}{2^k}$"
   ]
  },
  {
   "cell_type": "markdown",
   "id": "362e1336",
   "metadata": {},
   "source": [
    "6. Let $\\Omega = \\{0,1,...\\}$. Prove that there does not exist a uniform distribution on $\\Omega$.\n",
    "\n",
    "Each outcome from the given uniform distribution should have equal probability $\\mathbb{P}(\\{\\omega_i\\}) = \\mathbb{P}(\\{0\\}) = \\mathbb{P}(\\{1\\}) = ... p > 0$, where $\\omega_0 = 0, \\omega_1 = 1,...$.\n",
    "\n",
    "From the probability axioms we should have an equality $\\mathbb{P}(\\Omega) = 1$.\n",
    "\n",
    "However, $\\mathbb{P}(\\Omega) = \\mathbb{P}(\\{\\omega_0\\}\\cup\\{\\omega_1\\}\\cup...) = \\mathbb{P}(\\{\\omega_0\\}) + \\mathbb{P}(\\{\\omega_1\\}) + ... = \\sum_{i=0}^\\infty\\mathbb{P}(\\{\\omega_i\\}) = \\sum_{i=0}^\\infty p > 1$, which contradicts the aforementioned axiom. "
   ]
  },
  {
   "cell_type": "markdown",
   "id": "6d2bbb7e",
   "metadata": {},
   "source": [
    "7. **(Boole's inequality)** Let $A_1, A_2, ...$ be events. Show that $ \\mathbb{P}\\left(\\cup_{n=1}^\\infty A_n\\right) \\le \\sum_{n=1}^\\infty\\mathbb{P}(A_n)$.\n",
    "\n",
    "By induction:  \n",
    "$n=1 \\rightarrow P(A_1)\\le P(A_1)$  \n",
    "$n=k-1 \\rightarrow \\mathbb{P}\\left(\\cup_{n=1}^{k-1} A_n\\right) \\le \\sum_{n=1}^{k-1}\\mathbb{P}(A_n)$  \n",
    "$n=k \\rightarrow \\mathbb{P}\\left(\\cup_{n=1}^k A_n\\right) = \\mathbb{P}\\left(\\cup_{n=1}^{k-1} A_n\\right) + \\mathbb{P}(A_k) - \\mathbb{P}\\left(\\left(\\cup_{n=1}^{k-1} A_n\\right)\\cap A_k\\right) \\le \\sum_{n=1}^{k-1}\\mathbb{P}(A_n) + \\mathbb{P}(A_k) - \\mathbb{P}\\left(\\left(\\cup_{n=1}^{k-1} A_n\\right)\\cap A_k\\right) = \\sum_{n=1}^k\\mathbb{P}(A_n) - \\mathbb{P}\\left(\\left(\\cup_{n=1}^{k-1} A_n\\right)\\cap A_k\\right)$  \n",
    "Since $\\mathbb{P}\\left(\\left(\\cup_{n=1}^{k-1} A_n\\right)\\cap A_k\\right) \\ge 0$:  \n",
    "$\\sum_{n=1}^k\\mathbb{P}(A_n) - \\mathbb{P}\\left(\\left(\\cup_{n=1}^{k-1} A_n\\right)\\cap A_k\\right) \\le \\sum_{n=1}^k\\mathbb{P}(A_n) \\Rightarrow \\mathbb{P}\\left(\\cup_{n=1}^k A_n\\right) \\le \\sum_{n=1}^k\\mathbb{P}(A_n)$"
   ]
  },
  {
   "cell_type": "markdown",
   "id": "ca83aa60",
   "metadata": {},
   "source": [
    "8. Suppose that $\\mathbb{P}(A_i) = 1$. Prove that $\\mathbb{P}(\\cap_{i=1}^\\infty A_i) = 1$.\n",
    "\n",
    "By induction:  \n",
    "$n = 1 \\rightarrow \\mathbb{P}(A_1) = 1$  \n",
    "$n = k - 1 \\rightarrow \\mathbb{P}(\\cap_{i=1}^{k-1} A_i) = 1$.  \n",
    "$n = k \\rightarrow \\mathbb{P}(\\cap_{i=1}^k A_i) = \\mathbb{P}\\left(\\left(\\cap_{i=1}^{k-1} A_i\\right) \\cap A_k\\right) =  \\mathbb{P}(\\cap_{i=1}^{k-1} A_i) + \\mathbb{P}(A_k) - \\mathbb{P}\\left(\\left(\\cap_{i=1}^{k-1} A_i\\right) \\cup A_k\\right)$  \n",
    "Since $\\mathbb{P}(\\cap_{i=1}^{k-1} A_i) = 1$ and $\\mathbb{P}(A_k) = 1$:  \n",
    "$\\mathbb{P}(\\cap_{i=1}^{k-1} A_i) + \\mathbb{P}(A_k) - \\mathbb{P}\\left(\\left(\\cap_{i=1}^{k-1} A_i\\right) \\cup A_k\\right) = 1 + 1 - \\mathbb{P}\\left(\\left(\\cap_{i=1}^{k-1} A_i\\right) \\cup A_k\\right) = 2 - \\mathbb{P}\\left(\\left(\\cap_{i=1}^{k-1} A_i\\right) \\cup A_k\\right) \\Rightarrow \\mathbb{P}\\left(\\left(\\cap_{i=1}^{k-1} A_i\\right) \\cup A_k\\right) = 1 \\\\\\Rightarrow \\mathbb{P}(\\cap_{i=1}^k A_i) = 1$  "
   ]
  },
  {
   "cell_type": "markdown",
   "id": "9b395186",
   "metadata": {},
   "source": [
    "9. For fixed $B$ such that $\\mathbb{P}(B)$, show that $\\mathbb{P}(\\cdot|B)$ satisfies the axioms of probability.\n",
    "\n",
    "a) $\\mathbb{P}(\\cdot|B) \\ge 0$  \n",
    "$\\mathbb{P}(\\cdot|B) = \\frac{\\mathbb{P}(\\cdot B)}{\\mathbb{P}(B)} \\ge 0$ because $\\mathbb{P}(\\cdot B) \\ge 0$ and $\\mathbb{P}(B) > 0$\n",
    "\n",
    "b) $\\mathbb{P}(\\Omega|B) = 1$\n",
    "\n",
    "$\\mathbb{P}(\\Omega|B) = \\frac{\\mathbb{P}(\\Omega B)}{\\mathbb{P}(B)} = \\frac{\\mathbb{P}(B)}{\\mathbb{P}(B)} = 1$ because $\\mathbb{P}(B) > 0$\n",
    "\n",
    "c) $\\mathbb{P}(\\cup_{i=1}^{\\infty}A_i|B) = \\sum_{i=1}^{\\infty}\\mathbb{P}(A_i|B)$ if $A_1, A_2, ...$ are disjoint\n",
    "\n",
    "$\\mathbb{P}(\\cup_{i=1}^{\\infty}A_i|B) = \\frac{\\mathbb{P}(\\left(\\cup_{i=1}^{\\infty}A_i\\right) \\cap B)}{\\mathbb{P}(B)} = \\frac{\\mathbb{P}(\\cup_{i=1}^{\\infty}A_i B )}{\\mathbb{P}(B)} = \\frac{\\sum_{i=1}^{\\infty}\\mathbb{P}(A_i B )}{\\mathbb{P}(B)} = \\sum_{i=1}^{\\infty}\\frac{\\mathbb{P}(A_i B )}{\\mathbb{P}(B)} = \\sum_{i=1}^{\\infty}\\mathbb{P}(A_i|B)$"
   ]
  },
  {
   "cell_type": "markdown",
   "id": "c63cdb2b",
   "metadata": {},
   "source": [
    "10. Monty Hall Problem (assuming that you always choose the door 1)\n",
    "\n",
    "$\\Omega = \\left\\{(\\omega_1,\\omega_2): \\omega_i\\in\\{1,2,3\\}\\right\\}$, where $\\omega_1$ is where the prize is and $\\omega_2$ is the door Monty opens.\n",
    "\n",
    "$\\mathbb{P}(\\{(1, 1)\\}) = \\mathbb{P}(\\{(2, 2)\\}) = \\mathbb{P}(\\{(3, 3)\\}) = 0$\n",
    "\n",
    "$\\mathbb{P}(\\{(2, 1)\\}) = \\mathbb{P}(\\{(3, 1)\\}) = 0$\n",
    "\n",
    "$\\mathbb{P}(\\text{prize is behind door 1}) = \\mathbb{P}(\\{(1, 1), (1, 2), (1, 3)\\}) = \\mathbb{P}(\\{(1, 1)\\}) + \\mathbb{P}(\\{(1, 2)\\}) + \\mathbb{P}(\\{(1, 3)\\}) = \\frac{1}{3} \\Rightarrow \\mathbb{P}(\\{(1, 2)\\}) + \\mathbb{P}(\\{(1, 3)\\}) = \\frac{1}{3} \\Rightarrow \\mathbb{P}(\\{(1, 2)\\}) = \\mathbb{P}(\\{(1, 3)\\}) = \\frac{1}{6}$\n",
    "\n",
    "$\\mathbb{P}(\\text{prize is behind door 2}) = \\mathbb{P}(\\{(2, 1), (2, 2), (2, 3)\\}) = \\mathbb{P}(\\{(2, 1)\\}) + \\mathbb{P}(\\{(2, 2)\\}) + \\mathbb{P}(\\{(2, 3)\\}) = \\frac{1}{3} \\Rightarrow \\mathbb{P}(\\{(2, 3)\\}) = \\frac{1}{3}$\n",
    "\n",
    "$\\mathbb{P}(\\text{prize is behind door 3}) = \\mathbb{P}(\\{(3, 1), (3, 2), (3, 3)\\}) = \\mathbb{P}(\\{(3, 1)\\}) + \\mathbb{P}(\\{(3, 2)\\}) + \\mathbb{P}(\\{(3, 3)\\}) = \\frac{1}{3} \\Rightarrow \\mathbb{P}(\\{(3, 2)\\}) = \\frac{1}{3}$\n",
    "\n",
    "$\\mathbb{P}(\\text{prize is behind door 1|Monty opens door 2}) = \\mathbb{P}(\\{(1, 1), (1, 2), (1, 3)\\}|\\{(1, 2), (2, 2), (3, 2)\\}) = \\frac{\\mathbb{P}(\\{(1, 2)\\})}{\\mathbb{P}(\\{(1, 2), (2, 2), (3, 2)\\})} = \\frac{\\mathbb{P}(\\{(1, 2)\\})}{\\mathbb{P}(\\{(1, 2)\\}) + \\mathbb{P}(\\{(2, 2)\\}) + \\mathbb{P}(\\{(3, 2)\\})} = \\frac{1/6}{1/3+1/6} = \\frac{1}{3}$\n",
    "\n",
    "$\\mathbb{P}(\\text{prize is behind door 1|Monty opens door 3}) = \\mathbb{P}(\\{(1, 1), (1, 2), (1, 3)\\}|\\{(1, 3), (2, 3), (3, 3)\\}) = \\frac{\\mathbb{P}(\\{(1, 3)\\})}{\\mathbb{P}(\\{(1, 3), (2, 3), (3, 3)\\})} = \\frac{\\mathbb{P}(\\{(1, 3)\\})}{\\mathbb{P}(\\{(1, 3)\\}) + \\mathbb{P}(\\{(2, 3)\\}) + \\mathbb{P}(\\{(3, 3)\\})} = \\frac{1/6}{1/3+1/6} = \\frac{1}{3}$\n",
    "\n",
    "$\\mathbb{P}(\\text{prize is behind door 2|Monty opens door 3}) = \\mathbb{P}(\\{(2, 1), (2, 2), (2, 3)\\}|\\{(1, 3), (2, 3), (3, 3)\\}) = \\frac{\\mathbb{P}(\\{(2, 3)\\})}{\\mathbb{P}(\\{(1, 3), (2, 3), (3, 3)\\})} = \\frac{\\mathbb{P}(\\{(2, 3)\\})}{\\mathbb{P}(\\{(1, 3)\\}) + \\mathbb{P}(\\{(2, 3)\\}) + \\mathbb{P}(\\{(3, 3)\\})} = \\frac{1/3}{1/3+1/6} = \\frac{2}{3}$\n",
    "\n",
    "$\\mathbb{P}(\\text{prize is behind door 3|Monty opens door 2}) = \\mathbb{P}(\\{(3, 1), (3, 2), (3, 3)\\}|\\{(1, 2), (2, 2), (3, 2)\\}) = \\frac{\\mathbb{P}(\\{(3, 2)\\})}{\\mathbb{P}(\\{(1, 2), (2, 2), (3, 2)\\})} = \\frac{\\mathbb{P}(\\{(3, 2)\\})}{\\mathbb{P}(\\{(1, 2)\\}) + \\mathbb{P}(\\{(2, 2)\\}) + \\mathbb{P}(\\{(3, 2)\\})} = \\frac{1/3}{1/3+1/6} = \\frac{2}{3}$"
   ]
  },
  {
   "cell_type": "markdown",
   "id": "274d5775",
   "metadata": {},
   "source": [
    "11. Suppose $A$ and $B$ are independent events. Show that $A^c$ and $B^c$ are independent events.\n",
    "\n",
    "$\\mathbb{P}(A\\cap B) = \\mathbb{P}(A)\\mathbb{P}(B)$\n",
    "\n",
    "$\\mathbb{P}(A^c\\cap B^c) = \\mathbb{P}((A\\cup B)^c) = 1 - \\mathbb{P}(A\\cup B) = 1 - \\mathbb{P}(A) - \\mathbb{P}(B) + \\mathbb{P}(A\\cap B) = 1 - \\mathbb{P}(A) - \\mathbb{P}(B) + \\mathbb{P}(A)\\mathbb{P}(B) = (1-\\mathbb{P}(A))(1-\\mathbb{P}(B)) = \\mathbb{P}(A^c)\\mathbb{P}(B^c)$"
   ]
  },
  {
   "cell_type": "markdown",
   "id": "257c06bb",
   "metadata": {},
   "source": [
    "12. There are three cards. The first is green on both sides, the second is red on both sides and the third is green on one side and red on the other. We choose a card at random and we see one side (also chosen at random). If the side we see is green, what is the probability that the other side is also green?\n",
    "\n",
    "$C_{GG}$ - the card with both green sides  \n",
    "$C_{GR}$ - the card with one side green and other side red  \n",
    "$C_{RR}$ - the card with both red sides  \n",
    "$S_G$ - green side  \n",
    "$S_R$ - red side\n",
    "\n",
    "$\\Omega = \\left\\{ (\\omega_1\\omega_2): \\omega_1\\in\\{C_{GG}, C_{GR}, C_{RR}\\}, \\omega_2\\in\\{S_G,S_R\\} \\right\\}$\n",
    "\n",
    "$\\mathbb{P}(\\{(C_{GG},S_R)\\}) = \\mathbb{P}(\\{(C_{RR},S_G)\\}) = 0$\n",
    "\n",
    "$\\mathbb{P}(\\{(C_{GG},S_G)\\}) = \\mathbb{P}(\\{(C_{RR},S_R)\\}) = 0$\n",
    "\n",
    "$\\mathbb{P}(\\text{first card - }C_{GG}) = \\mathbb{P}(\\{(C_{GG},S_G), (C_{GG},S_R)\\}) = \\mathbb{P}(\\{(C_{GG},S_G)\\}) = \\frac{1}{3}$\n",
    "\n",
    "$\\mathbb{P}(\\text{second card - }C_{GR}) = \\mathbb{P}(\\{(C_{GR},S_G), (C_{GR},S_R)\\}) = \\mathbb{P}(\\{(C_{GR},S_G)\\}) + \\mathbb{P}(\\{(C_{GR},S_R)\\}) = \\frac{1}{3} \\Rightarrow \\mathbb{P}(\\{(C_{GR},S_G)\\}) = \\mathbb{P}(\\{(C_{GR},S_R)\\}) = \\frac{1}{6}$\n",
    "\n",
    "$\\mathbb{P}(\\text{third card - }C_{RR}) = \\mathbb{P}(\\{(C_{RR},S_G), (C_{RR},S_R)\\}) = \\mathbb{P}(\\{(C_{RR},S_R)\\}) = \\frac{1}{3}$\n",
    "\n",
    "$\\mathbb{P}(\\text{green side}) = \\mathbb{P}(\\{(C_{GG},S_G),(C_{GR},S_G),(C_{RR},S_G)\\}) = \\mathbb{P}(\\{(C_{GG},S_G)\\}) + \\mathbb{P}(\\{(C_{GR},S_G)\\}) = \\frac{1}{3} + \\frac{1}{6} = \\frac{1}{2}$\n",
    "\n",
    "$\\mathbb{P}(\\text{red side}) = \\mathbb{P}(\\{(C_{GG},S_R),(C_{GR},S_R),(C_{RR},S_R)\\}) = \\mathbb{P}(\\{(C_{GR},S_R)\\}) + \\mathbb{P}(\\{(C_{RR},S_R)\\}) = \\frac{1}{6} + \\frac{1}{3} = \\frac{1}{2}$\n",
    "\n",
    "$\\mathbb{P}(\\text{first card - }C_{GG}|\\text{green side}) = \\frac{\\mathbb{P}(\\text{first card - }C_{GG} \\cap \\text{green side})}{\\mathbb{P}(\\text{green side})} = \\frac{\\mathbb{P}(\\{(C_{GG},S_G), (C_{GG},S_R)\\}\\cap\\{(C_{GG},S_G),(C_{GR},S_G),(C_{RR},S_G)\\})}{\\mathbb{P}(\\{(C_{GG},S_G),(C_{GR},S_G),(C_{RR},S_G)\\})} = \\frac{\\mathbb{P}(\\{(C_{GG},S_G)\\})}{\\mathbb{P}(\\{(C_{GG},S_G)\\}) + \\mathbb{P}(\\{(C_{GR},S_G)\\})} = \\frac{1/3}{1/2}=\\frac{2}{3}$"
   ]
  },
  {
   "cell_type": "markdown",
   "id": "901ccabe",
   "metadata": {},
   "source": [
    "13. Suppose that a fair coin is tossed repeatedly until both a head and a tail have appeared at least once.\n",
    "\n",
    "a) Describe the sample space $\\Omega$\n",
    "\n",
    "$\\Omega = \\left\\{(\\omega_1,\\omega_2,...\\omega_k): \\omega_i\\in\\{H,T\\}\\right\\}$\n",
    "\n",
    "b) What is the probability that three tosses will be required?\n",
    "\n",
    "$E_1 = \\left\\{(\\omega_1,\\omega_2,...\\omega_k): \\forall i < k \\rightarrow \\omega_i = H, \\omega_k = T\\right\\}$\n",
    "\n",
    "$E_1 = \\left\\{(\\omega_1,\\omega_2,...\\omega_k): \\forall i < k \\rightarrow \\omega_i = T, \\omega_k = H\\right\\}$\n",
    "\n",
    "$E = (E_1\\cup E_2)$\n",
    "\n",
    "$\\mathbb{P}(E) = \\mathbb{P}(E_1\\cup E_2) = \\mathbb{P}(E_1) + \\mathbb{P}(E_2) = \\frac{1}{2^k} + \\frac{1}{2^k} = \\frac{2}{2^k} = \\frac{1}{2^{k-1}}$\n",
    "\n",
    "In case of 3 tosses:  \n",
    "$\\mathbb{P}(E) = \\frac{1}{2^{k-1}} = \\frac{1}{2^2} = \\frac{1}{4}$"
   ]
  },
  {
   "cell_type": "markdown",
   "id": "40a32081",
   "metadata": {},
   "source": [
    "14. Show that if $\\mathbb{P}(A) = 0$ or $\\mathbb{P}(A) = 1$, then $A$ is independent of every other event. Show that if $A$ is independent of itself, then $\\mathbb{P}(A) = 0$ or $\\mathbb{P}(A) = 1$\n",
    "\n",
    "Let $B$ be the other event\n",
    "\n",
    "a) $\\mathbb{P}(A) = 0 \\Rightarrow \\mathbb{P}(A\\cap B) = 0 \\Rightarrow \\mathbb{P}(A\\cap B) = 0\\cdot \\mathbb{P}(B) = \\mathbb{P}(A)\\cdot\\mathbb{P}(B)$\n",
    "\n",
    "$\\mathbb{P}(B) = 1 \\Rightarrow \\mathbb{P}(A\\cup B) = 1 = \\mathbb{P}(A) + \\mathbb{P}(B) - \\mathbb{P}(A\\cap B) \\Rightarrow 1 = 1 + \\mathbb{P}(B) - \\mathbb{P}(A\\cap B) \\Rightarrow \\mathbb{P}(A\\cap B) = \\mathbb{P}(B) = 1\\cdot\\mathbb{P}(B) = \\mathbb{P}(A)\\cdot\\mathbb{P}(B)$\n",
    "\n",
    "b) $\\mathbb{P}(A\\cap A) = \\mathbb{P}(A)\\mathbb{P}(A) \\Rightarrow \\mathbb{P}(A) = \\mathbb{P}(A) = \\mathbb{P}(A)\\mathbb{P}(A) \\Rightarrow \\mathbb{P}(A)(\\mathbb{P}(A) - 1) = 0 \\Rightarrow \\mathbb{P}_1(A) = 0, \\mathbb{P}_2(A) = 1$"
   ]
  },
  {
   "cell_type": "markdown",
   "id": "5cd7256c",
   "metadata": {},
   "source": [
    "15. The probability that a child has blue eyes is $\\frac{1}{4}$. Assume independence between children. Consider a family with 3 children.\n",
    "\n",
    "Let $C_1^b$, $C_2^b$, $C_3^b$ - events that child 1, 2, 3 have blue eyes, respectively.\n",
    "\n",
    "Let $C_1^n$, $C_2^n$, $C_3^n$ - events that child 1, 2, 3 do not have blue eyes, respectively.\n",
    "\n",
    "a) If it is known that at least one child has blue eyes, what is the probability that at least two children have blue eyes?\n",
    "\n",
    "$\\mathbb{P}(\\text{at least one child has blue eyes}) = 1-\\mathbb{P}(\\text{no children with blue eyes}) = 1-\\mathbb{P}(C_1^n C_2^n C_3^n) = 1-\\mathbb{P}(C_1^n)\\mathbb{P}(C_2^n)\\mathbb{P}(C_3^n) = 1 - \\frac{2}{3}\\cdot\\frac{2}{3}\\cdot\\frac{2}{3} = 1 - \\frac{8}{27} = \\frac{19}{27}$\n",
    "\n",
    "$\\mathbb{P}(\\text{at least two children with blue eyes}) = \\mathbb{P}((C_1^b C_2^b C_3^n) \\cup (C_1^b C_2^n C_3^b) \\cup (C_1^n C_2^b C_3^b) \\cup (C_1^b C_2^b C_3^b)) = \\mathbb{P}(C_1^b C_2^b C_3^n) + \\mathbb{P}(C_1^b C_2^n C_3^b) + \\mathbb{P}(C_1^n C_2^b C_3^b) + \\mathbb{P}(C_1^b C_2^b C_3^b) = \\frac{1}{3}\\cdot\\frac{1}{3}\\cdot\\frac{2}{3} + \\frac{1}{3}\\cdot\\frac{2}{3}\\cdot\\frac{1}{3} + \\frac{2}{3}\\cdot\\frac{1}{3}\\cdot\\frac{1}{3} + \\frac{1}{3}\\cdot\\frac{1}{3}\\cdot\\frac{1}{3} = \\frac{2}{27} + \\frac{2}{27} + \\frac{2}{27} + \\frac{1}{27} = \\frac{7}{27}$\n",
    "\n",
    "$\\mathbb{P}(\\text{at least two children with blue eyes}|\\text{at least one child has blue eyes}) = \\frac{\\mathbb{P}(\\text{at least one child has blue eyes}|\\text{at least two children with blue eyes})\\mathbb{P}(\\text{at least two children with blue eyes})}{\\mathbb{P}(\\text{at least one child with blue eyes})} = \\frac{1\\cdot \\mathbb{P}(\\text{at least two children with blue eyes})}{\\mathbb{P}(\\text{at least one child with blue eyes})} = \\frac{7/27}{19/27} = \\frac{7}{19}$ \n",
    "\n",
    "b) If it is known that the youngest child has blue eyes, what is the probability that at least two children have blue eyes?\n",
    "\n",
    "$\\mathbb{P}(\\text{youngest one has blue eyes}) = \\mathbb{P}((C_1^b C_2^n C_3^n)\\cup(C_1^b C_2^b C_3^n)\\cup(C_1^b C_2^n C_3^b)\\cup(C_1^b C_2^b C_3^b)) = \\frac{1}{3}\\cdot\\frac{2}{3}\\cdot\\frac{2}{3} + \\frac{1}{3}\\cdot\\frac{1}{3}\\cdot\\frac{2}{3} + \\frac{1}{3}\\cdot\\frac{2}{3}\\cdot\\frac{1}{3} + \\frac{1}{3}\\cdot\\frac{1}{3}\\cdot\\frac{1}{3} = \\frac{4}{27} + \\frac{2}{27} + \\frac{2}{27} + \\frac{1}{27} = \\frac{9}{27} = \\frac{1}{3}$\n",
    "\n",
    "$\\mathbb{P}(\\text{at least two children with blue eyes}) = \\mathbb{P}((C_1^b C_2^b C_3^n) \\cup (C_1^b C_2^n C_3^b) \\cup (C_1^n C_2^b C_3^b) \\cup (C_1^b C_2^b C_3^b)) = \\mathbb{P}(C_1^b C_2^b C_3^n) + \\mathbb{P}(C_1^b C_2^n C_3^b) + \\mathbb{P}(C_1^n C_2^b C_3^b) + \\mathbb{P}(C_1^b C_2^b C_3^b) = \\frac{1}{3}\\cdot\\frac{1}{3}\\cdot\\frac{2}{3} + \\frac{1}{3}\\cdot\\frac{2}{3}\\cdot\\frac{1}{3} + \\frac{2}{3}\\cdot\\frac{1}{3}\\cdot\\frac{1}{3} + \\frac{1}{3}\\cdot\\frac{1}{3}\\cdot\\frac{1}{3} = \\frac{2}{27} + \\frac{2}{27} + \\frac{2}{27} + \\frac{1}{27} = \\frac{7}{27}$\n",
    "\n",
    "$\\mathbb{P}(\\text{at least two children with blue eyes}|\\text{youngest one has blue eyes}) = \\frac{\\mathbb{P}(\\text{youngest one has blue eyes}\\cap\\text{at least two children with blue eyes})}{\\mathbb{P}(\\text{youngest one has blue eyes})} = \\frac{\\mathbb{P}((C_1^b C_2^b C_3^n)\\cup(C_1^b C_2^n C_3^b)\\cup(C_1^b C_2^b C_3^b))}{1/3} = \\frac{2/27 + 2/27 + 1/27}{9/27} = \\frac{5/27}{9/27} = \\frac{5}{9}$"
   ]
  },
  {
   "cell_type": "markdown",
   "id": "9523df46",
   "metadata": {},
   "source": [
    "16. Prove Lemma 1.14: if $A$ and $B$ are independent events, then $\\mathbb{P}(A|B) = \\mathbb{P}(A)$. Also for any pair of events $A$ and $B$:  \n",
    "$\\mathbb{P}(AB) = \\mathbb{P}(A|B)\\mathbb{P}(B) = \\mathbb{P}(B|A)\\mathbb{P}(A)$\n",
    "\n",
    "a) $\\mathbb{P}(A|B) = \\frac{\\mathbb{P}(AB)}{\\mathbb{P}(B)} \\Rightarrow \\text{ (since $A$ and $B$ are independent) } \\Rightarrow \\frac{\\mathbb{P}(A)\\mathbb{P}(B)}{\\mathbb{P}(B)} = \\mathbb{P}(A)$\n",
    "\n",
    "b) $\\mathbb{P}(A|B) = \\frac{\\mathbb{P}(AB)}{\\mathbb{P}(B)} \\Rightarrow \\mathbb{P}(AB) = \\mathbb{P}(A|B)\\mathbb{P}(B)$\n",
    "\n",
    "$\\mathbb{P}(B|A) = \\frac{\\mathbb{P}(BA)}{\\mathbb{P}(A)} = \\frac{\\mathbb{P}(AB)}{\\mathbb{P}(A)} \\Rightarrow \\mathbb{P}(AB) = \\mathbb{P}(B|A)\\mathbb{P}(A)$"
   ]
  },
  {
   "cell_type": "markdown",
   "id": "c77be47b",
   "metadata": {},
   "source": [
    "17. Prove that $\\mathbb{P}(ABC) = \\mathbb{P}(A|BC)\\mathbb{P}(B|C)\\mathbb{P}(C)$\n",
    "\n",
    "$\\mathbb{P}(ABC) = \\mathbb{P}(A|BC)\\mathbb{P}(BC) = \\mathbb{P}(A|BC)\\mathbb{P}(B|C)P\\mathbb{P}(C)$"
   ]
  },
  {
   "cell_type": "markdown",
   "id": "e35096ec",
   "metadata": {},
   "source": [
    "18. Suppose $k$ events form a partition of the sample space $\\Omega$, _i.e._ they are disjoint and $\\cup_{i=1}^k A_i = \\Omega$. Assume that $\\mathbb{P}(B) > 0$. Prove that if $\\mathbb{P}(A_1|B) < \\mathbb{P}(A_1)$, then $\\mathbb{P}(A_i|B) >\\mathbb{P}(A_i)$ for some $i=2,...,k$.\n",
    "\n",
    "$B = B\\cap\\Omega = B\\cap(\\cup_{i=1}^{k}A_i) = \\cup_{i=1}^k (B\\cap A_i)$\n",
    "\n",
    "$\\mathbb{P}(B) = \\mathbb{P}(\\cup_{i=1}^k (B\\cap A_i)) = \\sum_{i=1}^k\\mathbb{P}(B\\cap A_i) \\Rightarrow 1 = \\frac{\\sum_{i=1}^k\\mathbb{P}(B\\cap A_i)}{\\mathbb{P}(B)} = \\sum_{i=1}^k\\frac{\\mathbb{P}(B\\cap A_i)}{\\mathbb{P}(B)} = \\sum_{i=1}^k \\mathbb{P}(A_i|B) = \\text{ (because $\\sum_{i=1}^k A_i = 1$) } = \\sum_{i=1}^k \\mathbb{P}(A_i)$\n",
    "\n",
    "if $\\forall i = 2,...k: \\mathbb{P}(A_i|B) \\leq \\mathbb{P}(A_i) \\Rightarrow \\sum_{i=1}^k \\mathbb{P}(A_i|B) < \\sum_{i=1}^k \\mathbb{P}(A_i) = 1$ because $\\mathbb{P}(A_1|B) < \\mathbb{P}(A_1)$.\n",
    "\n",
    "Therefore, $\\mathbb{P}(A_i|B) > \\mathbb{P}(A_i)$ for some $i = 2,...,k$"
   ]
  },
  {
   "cell_type": "markdown",
   "id": "afa7dfeb",
   "metadata": {},
   "source": [
    "19. Suppose that 30 percent of computer owners use a Macintosh, 50 percent use Windows, and 20 percent use Linux. Suppose that 65 percent of the Mac users have succumbed to a computer virus, 82 percent of the Windows users get the virus, and 50 percent of the Linux users get the virus. We select a person at random and learn that her system was infected with the virus. What is the probability that she is a Windows user?\n",
    "\n",
    "$\\mathbb{P}(\\text{Mac user}) = 0.3$, $\\mathbb{P}(\\text{Windows user}) = 0.5$, $\\mathbb{P}(\\text{Linux user}) = 0.2$\n",
    "\n",
    "$\\mathbb{P}(\\text{Virus}|\\text{Mac user}) = 0.65$, $\\mathbb{P}(\\text{Virus}|\\text{Windows user}) = 0.82$, $\\mathbb{P}(\\text{Virus}|\\text{Linux user}) = 0.5$\n",
    "\n",
    "$\\mathbb{P}(\\text{Windows user}|\\text{Virus}) = \\frac{\\mathbb{P}(\\text{Windows user }\\cap\\text{ Virus})}{\\mathbb{P}(\\text{Virus})} = \\frac{\\mathbb{P}(\\text{Virus}|\\text{Windows user})\\mathbb{P}(\\text{Windows user})}{\\mathbb{P}(\\text{Virus}|\\text{Windows user})\\mathbb{P}(\\text{Windows user}) + \\mathbb{P}(\\text{Virus}|\\text{Mac user})\\mathbb{P}(\\text{Mac user}) + \\mathbb{P}(\\text{Virus}|\\text{Linux user})\\mathbb{P}(\\text{Linux user})}\n",
    "=\\frac{0.82\\cdot0.5}{0.82\\cdot0.5 + 0.65\\cdot0.3 + 0.5\\cdot0.2} = \\frac{0.41}{0.41+0.195+0.1} = \\frac{0.41}{0.705} = 0.58156$"
   ]
  },
  {
   "cell_type": "markdown",
   "id": "c65214cb",
   "metadata": {},
   "source": [
    "20. A box contains 5 coins and each has a different probability of showing heads. Let $p_1, ..., p_5$ denote the probability of heads on each coin. Suppose that $p_1 = 0$, $p_2=1/4$, $p_3=1/2$, $p_4=3/4$, $p_5=1$. Let $H$ denote \"heads is obtained\" and let $C_i$ denote the event that coin $i$ is selected.\n",
    "\n",
    "a) select a coin at random and toss it. Suppose a head is obtained. What is the posterior probability that coin $i$ was selected $\\mathbb{P}(C_i|H)$?\n",
    "\n",
    "$\\mathbb{P}(C_i|H) = \\frac{\\mathbb{P}(H|C_i)\\mathbb{P}(C_i)}{\\mathbb{P}(H)} = \\frac{\\mathbb{P}(H|C_i)\\mathbb{P}(C_i)}{\\sum_{i=1}^5\\mathbb{P}(H|C_i)\\mathbb{P}(C_i)} = \\frac{\\mathbb{P}(H|C_i)\\mathbb{P}(C_i)}{0\\cdot1/5 + 1/4\\cdot1/5 + 1/2\\cdot1/5 + 3/4\\cdot1/5+1\\cdot1/5} = \\frac{\\mathbb{P}(H|C_i)\\mathbb{P}(C_i)}{0 + 1/20 + 1/10 + 3/20 + 1/5} = \\frac{\\mathbb{P}(H|C_i)\\mathbb{P}(C_i)}{10/20} = 2\\mathbb{P}(H|C_i)\\mathbb{P}(C_i)$\n",
    "\n",
    "$\\mathbb{P}(C_1|H) = 2\\cdot0\\cdot1/5 = 0$\n",
    "\n",
    "$\\mathbb{P}(C_2|H) = 2\\cdot1/4\\cdot1/5 = 2/20 = 1/10$\n",
    "\n",
    "$\\mathbb{P}(C_3|H) = 2\\cdot1/2\\cdot1/5 = 2/10 = 1/5$\n",
    "\n",
    "$\\mathbb{P}(C_4|H) = 2\\cdot3/4\\cdot1/5 = 6/20 = 3/10$\n",
    "\n",
    "$\\mathbb{P}(C_5|H) = 2\\cdot1\\cdot1/5 = 2/5$\n",
    "\n",
    "b) Toss the coin again. What is the probability of another head $\\mathbb{P}(H_2|H_1)$ where $H_j$ = \"heads on toss $j$\".\n",
    "\n",
    "$\\mathbb{P}(H_1) = 1/2$\n",
    "\n",
    "$\\mathbb{P}(H_1 H_2) = \\sum_{i=1}^5\\mathbb{P}(H1 H2 | C_i)\\mathbb{P}(C_i) = \\text{ (because tosses are independent) } = \\sum_{i=1}^5\\mathbb{P}(H1 | C_i)\\mathbb{P}(H2 | C_i)\\mathbb{P}(C_i) = 0\\cdot0\\cdot1/5 + 1/4\\cdot1/4\\cdot1/5 + 1/2\\cdot1/2\\cdot1/5 + 3/4\\cdot3/4\\cdot1/5 + 1\\cdot1\\cdot1/5 = 0 + 1/80 + 1/20 + 9/80 + 1/5 = 1/80 + 4/80 + 9/80 + 16/80 = 30/80 = 15/40 = 3/8$\n",
    "\n",
    "$\\mathbb{P}(H_2|H_1) = \\frac{\\mathbb{P}(H_1 H_2)}{\\mathbb{P}(H_1)} = \\frac{3/8}{1/2} = 6/8 = 3/4$\n",
    "\n",
    "c) Now suppose that the experiment was carried out as follows: we select a coin at random and toss it until a head is obtained. Find $\\mathbb{P}(C_i|B_4)$ where $B_4$ = \"first head is obtained on toss 4\".\n",
    "\n",
    "$\\mathbb{P}(T_1 T_2 T_3 H_4) = \\sum_{i=1}^5\\mathbb{P}(T_1|C_i)\\mathbb{P}(T_2|C_i)\\mathbb{P}(T_3|C_i)\\mathbb{P}(H_4|C_i)\\mathbb{P}(C_i) = 1\\cdot1\\cdot1\\cdot0\\cdot1/5 + 3/4\\cdot3/4\\cdot3/4\\cdot1/4\\cdot1/5 + 1/2\\cdot1/2\\cdot1/2\\cdot1/2\\cdot1/5 + 1/4\\cdot1/4\\cdot1/4\\cdot3/4\\cdot1/5 + 0\\cdot0\\cdot0\\cdot1\\cdot1/5 = 0 + 27/1280 + 1/80 + 3/1280 + 0 = 27/1280 + 16/1280 + 3/1280 = 46/1280 = 23/640$\n",
    "\n",
    "$\\mathbb{P}(C_i | T_1 T_2 T_3 H_4) = \\frac{\\mathbb{P}(T_1 T_2 T_3 H_4 | C_i)\\mathbb{P}(C_i)}{\\mathbb{P}(T_1 T_2 T_3 H_4)} = \\frac{1/5\\cdot\\mathbb{P}(T_1 | C_i)\\mathbb{P}(T_2 | C_i)\\mathbb{P}(T_3 | C_i)\\mathbb{P}(H_4 | C_i)}{23/640} = \\frac{128\\cdot\\mathbb{P}(T_1 | C_i)\\mathbb{P}(T_2 | C_i)\\mathbb{P}(T_3 | C_i)\\mathbb{P}(H_4 | C_i)}{23}$\n",
    "\n",
    "$\\mathbb{P}(C_1 | T_1 T_2 T_3 H_4) = 0$\n",
    "\n",
    "$\\mathbb{P}(C_2 | T_1 T_2 T_3 H_4) = \\frac{128 \\cdot 3/4\\cdot3/4\\cdot3/4\\cdot1/4}{23} = \\frac{27}{46}$\n",
    "\n",
    "$\\mathbb{P}(C_3 | T_1 T_2 T_3 H_4) = \\frac{128 \\cdot 1/2\\cdot1/2\\cdot1/2\\cdot1/2}{23} = \\frac{8}{23}$\n",
    "\n",
    "$\\mathbb{P}(C_4 | T_1 T_2 T_3 H_4) = \\frac{128 \\cdot 1/4\\cdot1/4\\cdot1/4\\cdot3/4}{23} = \\frac{3}{46}$\n",
    "\n",
    "$\\mathbb{P}(C_5 | T_1 T_2 T_3 H_4) = 0$"
   ]
  },
  {
   "cell_type": "markdown",
   "id": "1cde675a",
   "metadata": {},
   "source": [
    "21. Suppose a coin has a probability $p$ of falling heads up. If we flip the coin many times, we would expect the proportion of heads to be near $p$. We will make this formal later. Take $p = 0.3$ and  $n=1000$ and simulate $n$ coin flips. Plot the proportion of heads as a function of $n$ Repeat for $p = 0.03$."
   ]
  },
  {
   "cell_type": "code",
   "execution_count": 2,
   "id": "a814c848",
   "metadata": {},
   "outputs": [],
   "source": [
    "def compute_proportion_of_heads(probability: float, toss_count: int) -> list:\n",
    "    \n",
    "    uniform_vector = np.random.uniform(low=0.0, high=1.0, size=toss_count)\n",
    "    \n",
    "    head_proportions = np.cumsum(uniform_vector <= probability)\n",
    "    \n",
    "    return np.divide(head_proportions, range(1, len(uniform_vector) + 1))"
   ]
  },
  {
   "cell_type": "code",
   "execution_count": 3,
   "id": "c08ca239",
   "metadata": {},
   "outputs": [
    {
     "data": {
      "image/png": "[encoded data removed]",
      "text/plain": [
       "<Figure size 1080x576 with 1 Axes>"
      ]
     },
     "metadata": {
      "needs_background": "light"
     },
     "output_type": "display_data"
    }
   ],
   "source": [
    "p1 = 0.3\n",
    "p2 = 0.03\n",
    "n = 1000\n",
    "\n",
    "head_proportions_p1 = compute_proportion_of_heads(probability=0.3, toss_count=n)\n",
    "head_proportions_p2 = compute_proportion_of_heads(probability=0.03, toss_count=n)\n",
    "\n",
    "plt.figure(figsize=(15, 8))\n",
    "plt.plot(range(1, len(head_proportions_p1)+1), head_proportions_p1, label=f'p = {p1}')\n",
    "plt.plot(range(1, len(head_proportions_p2)+1), head_proportions_p2, label=f'p = {p2}')\n",
    "plt.legend(loc='upper right')\n",
    "plt.show()"
   ]
  },
  {
   "cell_type": "markdown",
   "id": "31898290",
   "metadata": {},
   "source": [
    "22. Suppose we flip a coin $n$ times and let $p$ denote the probability of heads. Let $X$ be the number of heads. We call $X$ a binomial random variable. Intuition suggests that $X$ will be close to $np$. To see if this is true, we can repeat this experiment many times and aveerage the $X$ values. Carry out a simulation and compare the average of the $X$'s to $np$. Try this for $p=0.3$ and $n=10$, $n=100$, $n=1000$"
   ]
  },
  {
   "cell_type": "code",
   "execution_count": 4,
   "id": "fc7e393f",
   "metadata": {},
   "outputs": [],
   "source": [
    "def compute_head_count(probability: float, toss_count: int) -> int:\n",
    "    \n",
    "    uniform_vector = np.random.uniform(low=0.0, high=1.0, size=toss_count)\n",
    "    \n",
    "    return len(uniform_vector[uniform_vector < probability])"
   ]
  },
  {
   "cell_type": "code",
   "execution_count": 5,
   "id": "c859e85f",
   "metadata": {},
   "outputs": [
    {
     "name": "stdout",
     "output_type": "stream",
     "text": [
      "n = 10: head_count = 1\n",
      "n = 100: head_count = 28\n",
      "n = 1000: head_count = 305\n"
     ]
    }
   ],
   "source": [
    "p = 0.3\n",
    "n1 = 10\n",
    "n2 = 100\n",
    "n3 = 1000\n",
    "\n",
    "head_count1 = compute_head_count(probability=p, toss_count=n1)\n",
    "head_count2 = compute_head_count(probability=p, toss_count=n2)\n",
    "head_count3 = compute_head_count(probability=p, toss_count=n3)\n",
    "\n",
    "print(f'n = {n1}: head_count = {head_count1}\\nn = {n2}: head_count = {head_count2}\\nn = {n3}: head_count = {head_count3}')"
   ]
  },
  {
   "cell_type": "markdown",
   "id": "8710c174",
   "metadata": {},
   "source": [
    "23. Here we will get some epxerience simulating conditional probabilities. Consider tossing a fair die. Let $A = \\{2,4,6\\}$ and $B = \\{1,2,3,4\\}$. Then, $\\mathbb{P}(A) = 1/2$, $\\mathbb{P}(B) = 2/3$, and $\\mathbb{P}(AB) = 1/3$. Since $\\mathbb{P}(AB) = \\mathbb{P}(A)\\mathbb{P}(B)$, the events $A$ and $B$ are independent. Simulate draws from the sample space and verify that $\\hat{\\mathbb{P}}(AB) = \\hat{\\mathbb{P}}(A)\\hat{\\mathbb{P}}(B)$, where $\\hat{\\mathbb{P}}(A)$ is the proportion of times $A$ occurred in the simlation and similarly for $\\hat{\\mathbb{P}}(AB)$ and $\\hat{\\mathbb{P}}(B)$. Now find two events $A$ and $B$ that are not independent. Compute $\\hat{\\mathbb{P}}(A)$, $\\hat{\\mathbb{P}}(B)$, and $\\hat{\\mathbb{P}}(AB)$. Compare the calculated values to their theoretical values. Report your results and interpret."
   ]
  },
  {
   "cell_type": "code",
   "execution_count": 6,
   "id": "11b626ef",
   "metadata": {},
   "outputs": [
    {
     "name": "stdout",
     "output_type": "stream",
     "text": [
      "Theroretical values:\n",
      "P(A) = 0.5\n",
      "P(B) = 0.6666666666666666\n",
      "P(AB) = 0.3333333333333333\n",
      "P(A)P(B) = 0.3333333333333333\n",
      "\n",
      "Computed values:\n",
      "P(A) = 0.502\n",
      "P(B) = 0.66792\n",
      "P(AB) = 0.3333\n",
      "P(A)P(B) = 0.33529583999999996\n",
      "\n"
     ]
    }
   ],
   "source": [
    "# Independent events\n",
    "\n",
    "sample_space = set([1,2,3,4,5,6])\n",
    "draw_count = 50000\n",
    "\n",
    "event_a = set([2,4,6])\n",
    "event_b = set([1,2,3,4])\n",
    "event_ab = event_a.intersection(event_b)\n",
    "\n",
    "outcomes = np.random.choice(list(sample_space), size=draw_count)\n",
    "\n",
    "proportion_in_a = sum(np.isin(outcomes, list(event_a)))/draw_count\n",
    "proportion_in_b = sum(np.isin(outcomes, list(event_b)))/draw_count\n",
    "proportion_in_ab = sum(np.isin(outcomes, list(event_ab)))/draw_count\n",
    "\n",
    "print('Theroretical values:')\n",
    "print(\n",
    "    f'P(A) = {len(event_a)/len(sample_space)}\\n'\n",
    "    f'P(B) = {len(event_b)/len(sample_space)}\\n'\n",
    "    f'P(AB) = {len(event_ab)/len(sample_space)}\\n'\n",
    "    f'P(A)P(B) = {len(event_a)/len(sample_space) * len(event_b)/len(sample_space)}\\n'\n",
    ")\n",
    "print('Computed values:')\n",
    "print(\n",
    "    f'P(A) = {proportion_in_a}\\n'\n",
    "    f'P(B) = {proportion_in_b}\\n'\n",
    "    f'P(AB) = {proportion_in_ab}\\n'\n",
    "    f'P(A)P(B) = {proportion_in_a * proportion_in_b}\\n'\n",
    ")"
   ]
  },
  {
   "cell_type": "code",
   "execution_count": 7,
   "id": "956e90aa",
   "metadata": {},
   "outputs": [
    {
     "name": "stdout",
     "output_type": "stream",
     "text": [
      "Theroretical values:\n",
      "P(A) = 0.5\n",
      "P(B) = 0.5\n",
      "P(AB) = 0.0\n",
      "P(A)P(B) = 0.25\n",
      "\n",
      "Computed values:\n",
      "P(A) = 0.49992\n",
      "P(B) = 0.50008\n",
      "P(AB) = 0.0\n",
      "P(A)P(B) = 0.24999999359999997\n",
      "\n"
     ]
    }
   ],
   "source": [
    "# Not independent events\n",
    "\n",
    "sample_space = set([1,2,3,4,5,6])\n",
    "draw_count = 50000\n",
    "\n",
    "event_a = set([1,2,3])\n",
    "event_b = set([4,5,6])\n",
    "event_ab = event_a.intersection(event_b)\n",
    "\n",
    "outcomes = np.random.choice(list(sample_space), size=draw_count)\n",
    "\n",
    "proportion_in_a = sum(np.isin(outcomes, list(event_a)))/draw_count\n",
    "proportion_in_b = sum(np.isin(outcomes, list(event_b)))/draw_count\n",
    "proportion_in_ab = sum(np.isin(outcomes, list(event_ab)))/draw_count\n",
    "\n",
    "print('Theroretical values:')\n",
    "print(\n",
    "    f'P(A) = {len(event_a)/len(sample_space)}\\n'\n",
    "    f'P(B) = {len(event_b)/len(sample_space)}\\n'\n",
    "    f'P(AB) = {len(event_ab)/len(sample_space)}\\n'\n",
    "    f'P(A)P(B) = {len(event_a)/len(sample_space) * len(event_b)/len(sample_space)}\\n'\n",
    ")\n",
    "print('Computed values:')\n",
    "print(\n",
    "    f'P(A) = {proportion_in_a}\\n'\n",
    "    f'P(B) = {proportion_in_b}\\n'\n",
    "    f'P(AB) = {proportion_in_ab}\\n'\n",
    "    f'P(A)P(B) = {proportion_in_a * proportion_in_b}\\n'\n",
    ")"
   ]
  },
  {
   "cell_type": "code",
   "execution_count": null,
   "id": "90cf5e59",
   "metadata": {},
   "outputs": [],
   "source": []
  }
 ],
 "metadata": {
  "kernelspec": {
   "display_name": "Python 3 (ipykernel)",
   "language": "python",
   "name": "python3"
  },
  "language_info": {
   "codemirror_mode": {
    "name": "ipython",
    "version": 3
   },
   "file_extension": ".py",
   "mimetype": "text/x-python",
   "name": "python",
   "nbconvert_exporter": "python",
   "pygments_lexer": "ipython3",
   "version": "3.8.12"
  }
 },
 "nbformat": 4,
 "nbformat_minor": 5
}
