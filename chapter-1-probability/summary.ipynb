{
 "cells": [
  {
   "cell_type": "markdown",
   "id": "f7a2d7c3",
   "metadata": {},
   "source": [
    "### Notations\n",
    "\n",
    "$\\Omega$ - a sample space  \n",
    "$\\omega$ - an element from the sample space, _i.e._ realization  \n",
    "subset of $\\Omega$ - an event $A$  \n",
    "$|A|$ - the number of elements in $A$"
   ]
  },
  {
   "cell_type": "markdown",
   "id": "24c294ae",
   "metadata": {},
   "source": [
    "### Event properties\n",
    "\n",
    "$A^c = \\{\\omega\\in\\Omega: \\omega\\not\\in A\\}$  \n",
    "$\\cup_{i=1}^\\infty A_i = \\{\\omega\\in\\Omega: \\omega\\in A_i \\text{ for at least one } i\\}$  \n",
    "$\\cap_{i=1}^\\infty A_i = \\{\\omega\\in\\Omega: \\omega\\in A_i \\text{ for all } i\\}$  \n",
    "$A_1 - A_2 = \\{\\omega: \\omega\\in A_1, \\omega\\not\\in A_2\\}$"
   ]
  },
  {
   "cell_type": "markdown",
   "id": "12e5bac1",
   "metadata": {},
   "source": [
    "### Disjoint events \n",
    "\n",
    "$A_1$ and $A_2$ are disjoint if $A_1\\cap A_2 = \\emptyset$\n",
    "\n",
    "$\\Omega$ partition - a sequence of disjoint events $A_1$, $A_2$, ... such that $\\cup_{i=1}^\\infty A_i = \\Omega$\n",
    "\n",
    "Sequence $A_1$, $A_2$, ... is:  \n",
    "  - monotone increasing if $A_1\\subset A_2 \\subset ...$ and $\\lim_{n\\to\\infty}A_n = \\cup_{i=1}^\\infty A_i = A$\n",
    "  - monotone decreasing if $A_1\\supset A_2 \\supset ...$ and $\\lim_{n\\to\\infty}A_n = \\cap_{i=1}^\\infty A_i = A$"
   ]
  },
  {
   "cell_type": "markdown",
   "id": "28a8d2b5",
   "metadata": {},
   "source": [
    "### Probability measure\n",
    "\n",
    "$\\mathbb{P}(A)$ is a probability distribution if:\n",
    "- $\\mathbb{P}(A) \\ge 0$ for every $A$\n",
    "- $\\mathbb{P}(\\Omega) = 1$\n",
    "- $\\mathbb{P}(\\cup_{i=1}^\\infty A_i) = \\sum_{i=1}^\\infty \\mathbb{P}(A_i)$ if $A_1$, $A_2$, ... are disjoint  \n",
    "\n",
    "$\\mathbb{P}(A\\cup B) = \\mathbb{P}(A) + \\mathbb{P}(B) - \\mathbb{P}(AB)$\n",
    "\n",
    "#### Theorem - continuity of probabilities\n",
    "\n",
    "if $A_n \\to A$, then $\\mathbb{P}(A_n) \\to \\mathbb{P}(A)$ as $n \\to\\infty$"
   ]
  },
  {
   "cell_type": "markdown",
   "id": "2abfb076",
   "metadata": {},
   "source": [
    "### Finite sample spaces\n",
    "\n",
    "$\\mathbb{P}(A) = \\frac{|A|}{|\\Omega|}$  \n",
    "number of ordering $n$ objects = $n!$  \n",
    "number of ways to choose distinct $k$ objects from $n$ = $\\binom{n}{k} = \\frac{n!}{k!(n-k)!}$"
   ]
  },
  {
   "cell_type": "markdown",
   "id": "813590dc",
   "metadata": {},
   "source": [
    "### Independent events\n",
    "\n",
    "$A$ and $B$ are independent if $\\mathbb{P}(AB) = \\mathbb{P}(A)\\mathbb{P}(B)$  "
   ]
  },
  {
   "cell_type": "markdown",
   "id": "304e7e06",
   "metadata": {},
   "source": [
    "### Conditional probability\n",
    "\n",
    "$\\mathbb{P}(A|B) = \\frac{\\mathbb{P}(AB)}{\\mathbb{P}(B)}$, where $\\mathbb{P}(B) > 0$\n",
    "- $\\mathbb{P}(A|B) \\ge 0$ for every $A$\n",
    "- $\\mathbb{P}(\\Omega|B) = 1$\n",
    "- $\\mathbb{P}(\\cup_{i=1}^{\\infty}A_i|B) = \\sum_{i=1}^{\\infty}\\mathbb{P}(A_i|B)$ if $A_1, A_2, ...$ are disjoint\n",
    "\n",
    "if $A$ and $B$ are independent, then $\\mathbb{P}(A|B) = \\mathbb{P}(A)$\n",
    "\n",
    "$\\mathbb{P}(AB) = \\mathbb{P}(A|B)\\mathbb{P}(B) = \\mathbb{P}(B|A)\\mathbb{P}(A)$\n",
    "\n",
    "#### Theorem - law of total probability\n",
    "\n",
    "if $A_1, ..., A_k$ is partition of $\\Omega$, then  \n",
    "$\\mathbb{P}(B) = \\sum_{i=1}^k \\mathbb{P}(B|A_i)\\mathbb{P}(A_i)$\n",
    "\n",
    "#### Theorem - Bayes' theorem\n",
    "\n",
    "if $A_1, ..., A_k$ is partition of $\\Omega$ with $\\mathbb{P}(A_i) > 0$ and if $\\mathbb{P}(B) > 0$, then  \n",
    "$\\mathbb{P}(A_i|B) = \\frac{\\mathbb{P}(B|A_i)\\mathbb{P}(A_i)}{\\sum_{j=1}^k \\mathbb{P}(B|A_j)\\mathbb{P}(A_j)}$"
   ]
  }
 ],
 "metadata": {
  "kernelspec": {
   "display_name": "Python 3 (ipykernel)",
   "language": "python",
   "name": "python3"
  },
  "language_info": {
   "codemirror_mode": {
    "name": "ipython",
    "version": 3
   },
   "file_extension": ".py",
   "mimetype": "text/x-python",
   "name": "python",
   "nbconvert_exporter": "python",
   "pygments_lexer": "ipython3",
   "version": "3.8.12"
  }
 },
 "nbformat": 4,
 "nbformat_minor": 5
}
