{
 "cells": [
  {
   "cell_type": "markdown",
   "id": "b9ea5cb4",
   "metadata": {},
   "source": [
    "# Random Variables"
   ]
  },
  {
   "cell_type": "markdown",
   "id": "62d0b30f",
   "metadata": {},
   "source": [
    "**Definition**\n",
    "\n",
    "Given $(\\Omega,\\mathcal{A}, \\mathbb{P})$, a random variable is a function $X:\\Omega\\to\\mathbb{R}: \\forall x\\in\\mathbb{R}, \\{\\omega\\in\\Omega: X(\\omega)\\leq x\\}\\in\\mathcal{A}$"
   ]
  },
  {
   "cell_type": "markdown",
   "id": "cff83306",
   "metadata": {},
   "source": [
    "### Cumulative Distribution Function\n",
    "\n",
    "**Definition**\n",
    "\n",
    "The CDF of $X$ is the function $F:\\mathbb{R}\\to[0,1]: F(x) = \\mathbb{P}(X\\leq x)$\n",
    "\n",
    "---\n",
    "\n",
    "**Definition**\n",
    "\n",
    "The distribution of $X$ is the probability measure $\\mathbb{P}^X$ on $\\mathbb{R}$: $\\forall A\\in\\mathcal{B}(\\mathbb{R}), \\mathbb{P}^X(A) = \\mathbb{P}(X\\in A)$.\n",
    "\n",
    "---\n",
    "\n",
    "**Definition**\n",
    "\n",
    "$\\mathbb{P}^X$ is the probability measure, induced by $F$."
   ]
  },
  {
   "cell_type": "markdown",
   "id": "5ce0e797",
   "metadata": {},
   "source": [
    "### Types of Ranfom Variables\n",
    "\n",
    "**Notation**\n",
    "\n",
    "Let $\\mathbb{Q} = \\mathbb{P}^X$. Let $J=\\{x\\in\\mathbb{R}: \\mathbb{Q}(x) > 0\\}$\n",
    "\n",
    "$\\begin{cases} \\mathbb{Q}_d(A) = \\mathbb{Q}(A\\cap J) \\\\ \\mathbb{Q}_c(A) = \\mathbb{Q}(A) - \\mathbb{Q}(A\\cap J)\\end{cases} \\Rightarrow \\mathbb{Q} = \\mathbb{Q}_d + \\mathbb{Q}_c$\n",
    "\n",
    "$\\mathbb{Q}_d$ - discrete part of the measure\n",
    "\n",
    "$\\mathbb{Q}_c$ - continuous part of the measure\n",
    "\n",
    "$\\mathbb{Q}_x = \\mathbb{Q}_{ac} + \\mathbb{Q}_{sc}: \\text{ (by Radon-Nikodym theorem) }$\n",
    "\n",
    "$\\mathbb{Q}_{ac}$ - absolute continuous part of the measure\n",
    "\n",
    "$\\mathbb{Q}_{sc}$ - singular continuous part of the measure\n",
    "\n",
    "$\\mathbb{Q}_{ac}((-\\infty, x]) = \\int_{-\\infty}^x f(t)dt$ for some $f:\\mathbb{R}\\to[0,\\infty)$\n",
    "\n",
    "---\n",
    "\n",
    "**Definition**\n",
    "\n",
    "$X$ is discrete $\\Rightarrow \\mathbb{Q} = \\mathbb{Q}_d$\n",
    "\n",
    "$X$ is continuous $\\iff \\mathbb{Q} = \\mathbb{Q}_{ac}$"
   ]
  },
  {
   "cell_type": "markdown",
   "id": "b4bf7df2",
   "metadata": {},
   "source": [
    "### Discrete Random Variables\n",
    "\n",
    "**Definition**\n",
    "\n",
    "$X$ is discrete if $X(\\Omega) = \\{X(\\omega): \\omega\\in\\Omega\\}$ is countable.\n",
    "\n",
    "---\n",
    "\n",
    "**Definition**\n",
    "\n",
    "The probability mass function (PMF) of a discrete random variable $X$ is the function $p: \\mathbb{R}\\to[0,1]: p(x) = \\mathbb{P}(X=x)$.\n",
    "\n",
    "- $\\mathbb{P}(X\\in A) = \\sum_{x\\in A\\cap S}p(x)$, where $S = X(\\Omega)$\n",
    "- $\\mathbb{P}(X\\in\\mathbb{R}) = \\sum_{x\\in S}p(x) = 1$"
   ]
  },
  {
   "cell_type": "markdown",
   "id": "82b46a3d",
   "metadata": {},
   "source": [
    "### Continuous Random Variables\n",
    "\n",
    "**Definition**\n",
    "\n",
    "$X$ is continuous if it has a density $f(x): \\forall x\\in\\mathbb{R}, F(x) = \\int_{-\\infty}^x f(t)dt$ (for some integrable $f: \\mathbb{R}\\to[0,\\infty)$)"
   ]
  },
  {
   "cell_type": "markdown",
   "id": "7defab17",
   "metadata": {},
   "source": [
    "### Multiple Random Variables\n",
    "\n",
    "**Definition**\n",
    "\n",
    "Given $(\\Omega, \\mathcal{A}, \\mathbb{P})$, a random vector is a measurable function $X: \\Omega\\to\\mathbb{R}^d$, where $d\\in\\{1,2,..\\}$."
   ]
  },
  {
   "cell_type": "markdown",
   "id": "a4b32b9c",
   "metadata": {},
   "source": [
    "### Multiple Discrete Random Variables\n",
    "\n",
    "**Definition**\n",
    "\n",
    "A random vector $X\\in\\mathbb{R}^d$ is discrete if $X(\\Omega)$ is countable.\n",
    "\n",
    "---\n",
    "\n",
    "**Definition**\n",
    "\n",
    "The joint PMF of a discrete random vector $X\\in\\mathbb{R}^d$ is the function $p: \\mathbb{R}^d\\to[0,1]: p(x)=\\mathbb{P}(X = x)$\n",
    "- $\\mathbb{P}(X\\in A) = \\sum_{x\\in A\\cap S}p(x)$, where $S=X(\\Omega)$\n",
    "- $g(X)$ is a random vector if $X\\in\\mathbb{R}^d$ is a random vector and $g:\\mathbb{R}^d\\to\\mathbb{R}^k$ is measurable"
   ]
  },
  {
   "cell_type": "markdown",
   "id": "c2187734",
   "metadata": {},
   "source": [
    "### Multiple Continuous Random Variables\n",
    "\n",
    "**Definition**\n",
    "\n",
    "A random vector $X\\in\\mathbb{R}^d$ is continuous if it has a density $f(x): \\forall x\\in\\mathbb{R}^d, \\mathbb{P}(X\\in A) = \\int_A f(x)dx$ and $f:\\mathbb{R}^d\\to[0,\\infty]$ is measurable."
   ]
  },
  {
   "cell_type": "markdown",
   "id": "c4b36045",
   "metadata": {},
   "source": [
    "### Marginals and Conditionals\n",
    "\n",
    "Let $(X,Y)\\in\\mathbb{R}^2$ with PMF $p(x,y) = \\mathbb{P}(X=x,Y=y)$\n",
    "\n",
    "**Definition**\n",
    "\n",
    "The marginal PMF of $X$ is $p_X(x) = \\mathbb{P}(X=x)$\n",
    "- $p_X(x) = \\sum_{y\\in A_y} p(x,y)$\n",
    "\n",
    "---\n",
    "\n",
    "**Definition**\n",
    "\n",
    "The conditional PMF of $X$ given $Y=y$ is $p(x|y) = \\mathbb{P}(X=x|Y=y)$ (when $P(Y=y) > 0$)\n",
    "- $p(x|y) = \\frac{\\mathbb{P}(X=x,Y=y)}{\\mathbb{P}(Y=y)} = \\frac{p(x,y)}{p(y)}$\n",
    "\n",
    "---\n",
    "\n",
    "Let $(X,Y)\\in\\mathbb{R}^2$ with PDF $f(x,y)$\n",
    "\n",
    "**Definition**\n",
    "\n",
    "The marginal PDF of $X$ is $f_X(x) = \\int_\\mathbb{R} f(x,y)dy$\n",
    "\n",
    "---\n",
    "\n",
    "**Definition**\n",
    "\n",
    "The conditional PDF of $X$ given $Y=y$ is $f(x|y) = \\frac{f(x,y)}{f(y)}$ (when $f(y) > 0$)"
   ]
  },
  {
   "cell_type": "markdown",
   "id": "1ece74dd",
   "metadata": {},
   "source": [
    "### Independent Random Variables\n",
    "\n",
    "**Definition**\n",
    "\n",
    "Discrete random variables $X$ and $Y$ are independent if $\\forall x\\in A_x \\text{ and } \\forall y\\in A_y, p_{XY}(x,y) = p_X(x)p_Y(y)$\n",
    "\n",
    "---\n",
    "\n",
    "**Definition**\n",
    "\n",
    "Continuous random variables $X$ and $Y$ are independent if $\\forall x\\in\\mathbb{R} \\text{ and } \\forall y\\in\\mathbb{R}, f_{XY}(x,y) = f_X(x)f_Y(y)$\n",
    "\n",
    "---\n",
    "\n",
    "**Theorem**\n",
    "\n",
    "The following statements are equivalent:\n",
    "- $X$ and $Y$ are independent\n",
    "- $\\mathbb{P}(X\\in A, Y\\in B) = \\mathbb{P}(X\\in A)\\mathbb{P}(Y\\in B)$ for all $A, B\\in\\mathcal{B}(\\mathbb{R})$\n",
    "- $g(X)$ and $h(Y)$ are independent for all measurable functions $g, h: \\mathbb{R}\\to\\mathbb{R}$\n",
    "- $\\mathbb{E}(g(X)h(Y)) = \\mathbb{E}(g(X))\\mathbb{E}(h(Y))$ for all measurable functions $g, h: \\mathbb{R}\\to\\mathbb{R}$, where $g(X)\\geq 0$ and $h(Y)\\geq 0$\n",
    "- $\\mathbb{E}(g(X)h(Y)) = \\mathbb{E}(g(X))\\mathbb{E}(h(Y))$ for all measurable functions $g, h: \\mathbb{R}\\to\\mathbb{R}$ and $\\mathbb{E}(|g(X)|) < \\infty, \\mathbb{E}(|h(Y)|) < \\infty$"
   ]
  }
 ],
 "metadata": {
  "kernelspec": {
   "display_name": "Python 3 (ipykernel)",
   "language": "python",
   "name": "python3"
  },
  "language_info": {
   "codemirror_mode": {
    "name": "ipython",
    "version": 3
   },
   "file_extension": ".py",
   "mimetype": "text/x-python",
   "name": "python",
   "nbconvert_exporter": "python",
   "pygments_lexer": "ipython3",
   "version": "3.8.12"
  }
 },
 "nbformat": 4,
 "nbformat_minor": 5
}
